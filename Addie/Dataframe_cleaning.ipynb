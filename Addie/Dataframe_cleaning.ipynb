{
 "cells": [
  {
   "cell_type": "code",
   "execution_count": 2,
   "metadata": {},
   "outputs": [],
   "source": [
    "import pandas as pd\n",
    "import numpy as np\n"
   ]
  },
  {
   "cell_type": "code",
   "execution_count": null,
   "metadata": {},
   "outputs": [],
   "source": [
    "# cleaning data\n",
    "overall_stability_df = pd.read_csv(\"../Resources/DataFrames/Possible_factors/overall_stability/cleaned/Overall_stability.csv\")\n",
    "overall_stability_df = overall_stability_df.dropna()\n",
    "overall_stability_df = overall_stability_df[overall_stability_df['g_Values'] != \"..\"]\n",
    "overall_stability_df = overall_stability_df.sort_values([\"Country Name\", \"Series Name\", \"year\"])\n",
    "overall_stability_df\n",
    "overall_stability_df.to_csv('../Resources/DataFrames/Possible_factors/overall_stability/cleaned/Overall_stability_cleaned.csv', index=False)\n"
   ]
  },
  {
   "cell_type": "code",
   "execution_count": null,
   "metadata": {},
   "outputs": [],
   "source": [
    "# cleaning data\n",
    "gov_stability_df = pd.read_csv(\"../Resources/DataFrames/Possible_factors/government_stability/cleaned/Government_stability.csv\")\n",
    "gov_stability_df = gov_stability_df.dropna()\n",
    "gov_stability_df = gov_stability_df[gov_stability_df['gov_stability_values'] != \"..\"]\n",
    "gov_stability_df = gov_stability_df.sort_values([\"Country Name\", \"Series Name\", \"year\"])\n",
    "gov_stability_df\n",
    "gov_stability_df.to_csv('../Resources/DataFrames/Possible_factors/government_stability/cleaned/Government_stability_cleaned.csv', index=False)"
   ]
  },
  {
   "cell_type": "code",
   "execution_count": null,
   "metadata": {},
   "outputs": [],
   "source": [
    "# cleaning all series data at once\n",
    "csv_files = [\n",
    "    \"../Resources/DataFrames/series_df/series_pivot/series1.csv\",\n",
    "    \"../Resources/DataFrames/series_df/series_pivot/series2.csv\",\n",
    "    \"../Resources/DataFrames/series_df/series_pivot/series3.csv\",\n",
    "    \"../Resources/DataFrames/series_df/series_pivot/series4.csv\",\n",
    "    \"../Resources/DataFrames/series_df/series_pivot/series5.csv\",\n",
    "    \"../Resources/DataFrames/series_df/series_pivot/series6.csv\",\n",
    "    \"../Resources/DataFrames/series_df/series_pivot/series7.csv\",\n",
    "    \"../Resources/DataFrames/series_df/series_pivot/series8.csv\",\n",
    "    \"../Resources/DataFrames/series_df/series_pivot/series9.csv\",\n",
    "    \"../Resources/DataFrames/series_df/series_pivot/series10.csv\",\n",
    "    \"../Resources/DataFrames/series_df/series_pivot/series11.csv\",\n",
    "    \"../Resources/DataFrames/series_df/series_pivot/series12.csv\",\n",
    "    \"../Resources/DataFrames/series_df/series_pivot/series13.csv\",\n",
    "    \"../Resources/DataFrames/series_df/series_pivot/series14.csv\",\n",
    "    \"../Resources/DataFrames/series_df/series_pivot/series15.csv\",\n",
    "    \"../Resources/DataFrames/series_df/series_pivot/series16.csv\",\n",
    "    \"../Resources/DataFrames/series_df/series_pivot/series17.csv\",\n",
    "    \"../Resources/DataFrames/series_df/series_pivot/series18.csv\",\n",
    "    \"../Resources/DataFrames/series_df/series_pivot/series19.csv\",\n",
    "    \"../Resources/DataFrames/series_df/series_pivot/series20.csv\",\n",
    "    \"../Resources/DataFrames/series_df/series_pivot/series21.csv\"\n",
    "]\n",
    "\n",
    "cleaned_dfs = {}\n",
    "\n",
    "for i, file in enumerate(csv_files):\n",
    "\n",
    "    df = pd.read_csv(file)\n",
    "    \n",
    "    df_cleaned = df.dropna()\n",
    "    df_cleaned = df_cleaned[df_cleaned[f'values_T{i+1}'] != \"..\"]\n",
    "    df_cleaned = df_cleaned.sort_values([\"Country Name\", \"Series Name\", f'year_T{i+1}'])\n",
    "    \n",
    "    cleaned_dfs[f'series_df_{i+1}'] = df_cleaned\n",
    "\n",
    "    cleaned_dfs[f'series_df_{i+1}'].to_csv(f'../Resources/DataFrames/series_df/series_pivot/series_cleaned/series{i+1}_cleaned.csv', index=False)\n",
    "\n",
    "# cleaned_dfs[f'series_df_21']"
   ]
  },
  {
   "cell_type": "code",
   "execution_count": 24,
   "metadata": {},
   "outputs": [],
   "source": [
    "# Merginf data for Tableau\n",
    "series_files = [\n",
    "    \"../Resources/DataFrames/series_df/series_pivot/series_cleaned/series1_cleaned.csv\",\n",
    "    \"../Resources/DataFrames/series_df/series_pivot/series_cleaned/series2_cleaned.csv\",\n",
    "    \"../Resources/DataFrames/series_df/series_pivot/series_cleaned/series3_cleaned.csv\",\n",
    "    \"../Resources/DataFrames/series_df/series_pivot/series_cleaned/series4_cleaned.csv\",\n",
    "    \"../Resources/DataFrames/series_df/series_pivot/series_cleaned/series5_cleaned.csv\",\n",
    "    \"../Resources/DataFrames/series_df/series_pivot/series_cleaned/series6_cleaned.csv\",\n",
    "    \"../Resources/DataFrames/series_df/series_pivot/series_cleaned/series7_cleaned.csv\",\n",
    "    \"../Resources/DataFrames/series_df/series_pivot/series_cleaned/series8_cleaned.csv\",\n",
    "    \"../Resources/DataFrames/series_df/series_pivot/series_cleaned/series9_cleaned.csv\",\n",
    "    \"../Resources/DataFrames/series_df/series_pivot/series_cleaned/series10_cleaned.csv\",\n",
    "    \"../Resources/DataFrames/series_df/series_pivot/series_cleaned/series11_cleaned.csv\",\n",
    "    \"../Resources/DataFrames/series_df/series_pivot/series_cleaned/series12_cleaned.csv\",\n",
    "    \"../Resources/DataFrames/series_df/series_pivot/series_cleaned/series13_cleaned.csv\",\n",
    "    \"../Resources/DataFrames/series_df/series_pivot/series_cleaned/series14_cleaned.csv\",\n",
    "    \"../Resources/DataFrames/series_df/series_pivot/series_cleaned/series15_cleaned.csv\",\n",
    "    \"../Resources/DataFrames/series_df/series_pivot/series_cleaned/series16_cleaned.csv\",\n",
    "    \"../Resources/DataFrames/series_df/series_pivot/series_cleaned/series17_cleaned.csv\",\n",
    "    \"../Resources/DataFrames/series_df/series_pivot/series_cleaned/series18_cleaned.csv\",\n",
    "    \"../Resources/DataFrames/series_df/series_pivot/series_cleaned/series19_cleaned.csv\",\n",
    "    \"../Resources/DataFrames/series_df/series_pivot/series_cleaned/series20_cleaned.csv\",\n",
    "    \"../Resources/DataFrames/series_df/series_pivot/series_cleaned/series21_cleaned.csv\"\n",
    "]\n",
    "\n",
    "\n",
    "merged_df = pd.read_csv(series_files[0])\n",
    "\n",
    "for file_path in series_files[1:]:\n",
    "    df = pd.read_csv(file_path)\n",
    "    merged_df = pd.merge(merged_df, df, how='outer', on=['Country Name', 'Country Code', 'Series Name'])\n",
    "\n",
    "merged_df\n",
    "\n",
    "merged_df.to_csv('../Resources/Tableau_sources/cleaned_df/merged_df_T.csv', index=False)"
   ]
  },
  {
   "cell_type": "code",
   "execution_count": 12,
   "metadata": {},
   "outputs": [],
   "source": [
    "# Cleaning data for Tableau\n",
    "avoidable_d_df = pd.read_csv(\"../Resources/DataFrames/Possible_factors/1_cleaned_data/Avoidable_mortality.csv\")\n",
    "avoidable_d_df = avoidable_d_df.dropna()\n",
    "avoidable_d_df = avoidable_d_df[avoidable_d_df['Unit of measure'] != \"Deaths per 100 000 inhabitants\"]\n",
    "avoidable_d_df = avoidable_d_df.sort_values([\"Reference area\", \"Measure\", \"TIME_PERIOD\"])\n",
    "avoidable_d_df\n",
    "avoidable_d_df.to_csv('../Resources/Tableau_sources/cleaned_df/Avoidable_mortality_cleaned.csv', index=False)"
   ]
  },
  {
   "cell_type": "code",
   "execution_count": 14,
   "metadata": {},
   "outputs": [],
   "source": [
    "# Cleaning data for Tableau\n",
    "battle_d_df = pd.read_csv(\"../Resources/DataFrames/Possible_factors/Battle_related_deaths/cleaned/Battle_related_deaths.csv\")\n",
    "battle_d_df = battle_d_df.dropna()\n",
    "battle_d_df = battle_d_df[battle_d_df['Battle_death_values'] != \"..\"]\n",
    "battle_d_df = battle_d_df.sort_values([\"Country Name\", \"Series Name\", \"year_TB\"])\n",
    "battle_d_df\n",
    "battle_d_df.to_csv('../Resources/Tableau_sources/cleaned_df/Battle_deaths_cleaned.csv', index=False)"
   ]
  },
  {
   "cell_type": "code",
   "execution_count": 22,
   "metadata": {},
   "outputs": [],
   "source": [
    "# Cleaning data for Tableau\n",
    "wage_gap_df = pd.read_csv(\"../Resources/DataFrames/Possible_factors/1_cleaned_data/Gender_wage_gap.csv\")\n",
    "wage_gap_df = wage_gap_df.dropna()\n",
    "wage_gap_df = wage_gap_df[wage_gap_df['Median_%_of_men_wages_gap'] != \" \"]\n",
    "wage_gap_df = wage_gap_df.sort_values([\"Reference area\", \"TIME_PERIOD\"])\n",
    "wage_gap_df\n",
    "wage_gap_df.to_csv('../Resources/Tableau_sources/cleaned_df/Gender_wage_gap_cleaned.csv', index=False)"
   ]
  },
  {
   "cell_type": "code",
   "execution_count": 23,
   "metadata": {},
   "outputs": [],
   "source": [
    "# Cleaning data for Tableau\n",
    "wage_gap_df = pd.read_csv(\"../Resources/DataFrames/Possible_factors/1_cleaned_data/Mortality_data.csv\")\n",
    "wage_gap_df = wage_gap_df.dropna()\n",
    "wage_gap_df = wage_gap_df.sort_values([\"Reference area\", \"Cause of death\", \"TIME_PERIOD\"])\n",
    "wage_gap_df\n",
    "wage_gap_df.to_csv('../Resources/Tableau_sources/cleaned_df/Mortality_data_cleaned.csv', index=False)"
   ]
  },
  {
   "cell_type": "code",
   "execution_count": 3,
   "metadata": {},
   "outputs": [],
   "source": [
    "# cleaned for sql\n",
    "olympic_o_df = pd.read_csv(\"../Resources/DataFrames/All_olympic_competitors/athleteEvents.csv\")\n",
    "\n",
    "olympic_o_df.to_csv('../Resources/DataFrames/All_olympic_competitors/athleteEvents_sql.csv', index=True)"
   ]
  },
  {
   "cell_type": "code",
   "execution_count": 4,
   "metadata": {},
   "outputs": [],
   "source": [
    "# cleaned for sql\n",
    "polu_df = pd.read_csv(\"../Resources/DataFrames/Possible_factors/1_cleaned_data/Air_pollulants_cleaned.csv\")\n",
    "polu_df = polu_df.rename(columns={\"POLLUTANT\":\"CHEM_COMP\"})\n",
    "polu_df.to_csv('../Resources/DataFrames/Possible_factors/1_cleaned_data/Air_pollulants_sql.csv', index=True)"
   ]
  },
  {
   "cell_type": "code",
   "execution_count": 6,
   "metadata": {},
   "outputs": [],
   "source": [
    "# cleaned for sql\n",
    "mortality_df = pd.read_csv(\"../Resources/DataFrames/Possible_factors/1_cleaned_data/Avoidable_mortality.csv\")\n",
    "\n",
    "mortality_df.to_csv('../Resources/DataFrames/Possible_factors/1_cleaned_data/Avoidable_mortality_sql.csv', index=True)"
   ]
  },
  {
   "cell_type": "code",
   "execution_count": 7,
   "metadata": {},
   "outputs": [],
   "source": [
    "# cleaned for sql\n",
    "mortality_df = pd.read_csv(\"../Resources/DataFrames/Possible_factors/1_cleaned_data/Employment_retirement_labor_cleaned.csv\")\n",
    "\n",
    "mortality_df.to_csv('../Resources/DataFrames/Possible_factors/1_cleaned_data/Employment_retirement_labor_cleaned_sql.csv', index=True)"
   ]
  },
  {
   "cell_type": "code",
   "execution_count": 8,
   "metadata": {},
   "outputs": [],
   "source": [
    "# cleaned for sql\n",
    "mortality_df = pd.read_csv(\"../Resources/DataFrames/Possible_factors/1_cleaned_data/Perceived_health_status_cleaned.csv\")\n",
    "\n",
    "mortality_df.to_csv('../Resources/DataFrames/Possible_factors/1_cleaned_data/Perceived_health_status_cleaned_sql.csv', index=True)"
   ]
  },
  {
   "cell_type": "code",
   "execution_count": 9,
   "metadata": {},
   "outputs": [],
   "source": [
    "# cleaned for sql\n",
    "mortality_df = pd.read_csv(\"../Resources/DataFrames/Possible_factors/1_cleaned_data/Well_being_stats_cleaned.csv\")\n",
    "\n",
    "mortality_df.to_csv('../Resources/DataFrames/Possible_factors/1_cleaned_data/Well_being_stats_cleaned_sql.csv', index=True)"
   ]
  },
  {
   "cell_type": "code",
   "execution_count": null,
   "metadata": {},
   "outputs": [],
   "source": []
  }
 ],
 "metadata": {
  "kernelspec": {
   "display_name": "base",
   "language": "python",
   "name": "python3"
  },
  "language_info": {
   "codemirror_mode": {
    "name": "ipython",
    "version": 3
   },
   "file_extension": ".py",
   "mimetype": "text/x-python",
   "name": "python",
   "nbconvert_exporter": "python",
   "pygments_lexer": "ipython3",
   "version": "3.11.8"
  }
 },
 "nbformat": 4,
 "nbformat_minor": 2
}
