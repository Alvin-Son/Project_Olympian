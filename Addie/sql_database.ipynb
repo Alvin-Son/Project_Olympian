{
 "cells": [
  {
   "cell_type": "code",
   "execution_count": 2,
   "metadata": {},
   "outputs": [],
   "source": [
    "import pandas as pd\n",
    "from pathlib import Path\n",
    "\n",
    "import sqlalchemy\n",
    "from sqlalchemy.ext.automap import automap_base\n",
    "from sqlalchemy.orm import Session\n",
    "from sqlalchemy import create_engine"
   ]
  },
  {
   "cell_type": "code",
   "execution_count": 3,
   "metadata": {},
   "outputs": [],
   "source": [
    "# Create engine \n",
    "engine = create_engine(\"sqlite:///Project_olympian.sqlite\")\n",
    "conn = engine.connect()"
   ]
  },
  {
   "cell_type": "code",
   "execution_count": 4,
   "metadata": {},
   "outputs": [],
   "source": [
    "# Declare a Base using `automap_base()`\n",
    "Base = automap_base()"
   ]
  },
  {
   "cell_type": "code",
   "execution_count": 5,
   "metadata": {},
   "outputs": [],
   "source": [
    "# Use the Base class to reflect the database tables\n",
    "Base.prepare(autoload_with=engine)"
   ]
  },
  {
   "cell_type": "code",
   "execution_count": 6,
   "metadata": {},
   "outputs": [
    {
     "data": {
      "text/plain": [
       "['Air_pollulants',\n",
       " 'Gov_effectivness',\n",
       " 'Pop_total',\n",
       " 'Olympian_stats',\n",
       " 'Stability_and_absence_of_terr_voil',\n",
       " 'Mortality_data',\n",
       " 'Corruption',\n",
       " 'Armed_forces',\n",
       " 'Retirement_data',\n",
       " 'Perceived_health',\n",
       " 'Wage_gap',\n",
       " 'Pop_growth',\n",
       " 'Overall_olympics',\n",
       " 'Unemployment',\n",
       " 'GDP_per_capita',\n",
       " 'Rule_of_law',\n",
       " 'Disaster_data',\n",
       " 'Health_expenditure',\n",
       " 'Legal_rights',\n",
       " 'Gov_stability',\n",
       " 'Avoidable_mortality',\n",
       " 'Tourism_expenditure',\n",
       " 'Well_being_stats',\n",
       " 'Pollution_pop_exposed',\n",
       " 'GDP_usd',\n",
       " 'Military_expenditure',\n",
       " 'GDP_p_cap_growth',\n",
       " 'Athlete_events',\n",
       " 'Education_expenditure',\n",
       " 'GDP_growth',\n",
       " 'Overall_stability',\n",
       " 'Compulsory_education',\n",
       " 'Health_expenditure_usd',\n",
       " 'Employment_ratio',\n",
       " 'Country_code_key']"
      ]
     },
     "execution_count": 6,
     "metadata": {},
     "output_type": "execute_result"
    }
   ],
   "source": [
    "# Print all of the classes mapped to the Base\n",
    "Base.classes.keys()"
   ]
  },
  {
   "cell_type": "code",
   "execution_count": 7,
   "metadata": {},
   "outputs": [],
   "source": [
    "Air_pollulants = Base.classes.Air_pollulants\n",
    "Armed_forces = Base.classes.Armed_forces\n",
    "Athlete_events = Base.classes.Athlete_events\n",
    "Avoidable_mortality = Base.classes.Avoidable_mortality\n",
    "Compulsory_education = Base.classes.Compulsory_education\n",
    "Corruption = Base.classes.Corruption\n",
    "Country_code_key = Base.classes.Country_code_key\n",
    "Disaster_data = Base.classes.Disaster_data\n",
    "Education_expenditure = Base.classes.Education_expenditure\n",
    "Employment_ratio = Base.classes.Employment_ratio\n",
    "GDP_growth = Base.classes.GDP_growth\n",
    "GDP_p_cap_growth = Base.classes.GDP_p_cap_growth\n",
    "GDP_per_capita = Base.classes.GDP_per_capita\n",
    "GDP_usd = Base.classes.GDP_usd\n",
    "Gov_effectivness = Base.classes.Gov_effectivness\n",
    "Gov_stability = Base.classes.Gov_stability\n",
    "Health_expenditure = Base.classes.Health_expenditure\n",
    "Health_expenditure_usd = Base.classes.Health_expenditure_usd\n",
    "Legal_rights = Base.classes.Legal_rights\n",
    "Military_expenditure = Base.classes.Military_expenditure\n",
    "Mortality_data = Base.classes.Mortality_data\n",
    "Olympian_stats = Base.classes.Olympian_stats\n",
    "Overall_olympics = Base.classes.Overall_olympics\n",
    "Overall_stability = Base.classes.Overall_stability\n",
    "Perceived_health = Base.classes.Perceived_health\n",
    "Pollution_pop_exposed = Base.classes.Pollution_pop_exposed\n",
    "Pop_growth = Base.classes.Pop_growth\n",
    "Pop_total = Base.classes.Pop_total\n",
    "Retirement_data = Base.classes.Retirement_data\n",
    "Rule_of_law = Base.classes.Rule_of_law\n",
    "Stability_and_absence_of_terr_voil = Base.classes.Stability_and_absence_of_terr_voil\n",
    "Tourism_expenditure = Base.classes.Tourism_expenditure\n",
    "Unemployment = Base.classes.Unemployment\n",
    "Wage_gap = Base.classes.Wage_gap\n",
    "Well_being_stats = Base.classes.Well_being_stats\n"
   ]
  },
  {
   "cell_type": "code",
   "execution_count": 8,
   "metadata": {},
   "outputs": [],
   "source": [
    "session = Session(engine)"
   ]
  },
  {
   "cell_type": "code",
   "execution_count": 11,
   "metadata": {},
   "outputs": [],
   "source": [
    "data_test = pd.read_sql(\"SELECT * FROM Well_being_stats\", conn)\n",
    "# data_test"
   ]
  },
  {
   "cell_type": "code",
   "execution_count": 13,
   "metadata": {},
   "outputs": [
    {
     "name": "stdout",
     "output_type": "stream",
     "text": [
      "(-9.431974068, 7.946)\n",
      "(-9.431974068, 7.94)\n",
      "(-9.431974068, 7.961)\n",
      "(-9.431974068, 7.98)\n",
      "(-9.431974068, 7.967)\n",
      "(-9.431974068, 7.941)\n",
      "(-9.431974068, 7.92)\n",
      "(-9.431974068, 7.941)\n",
      "(-9.431974068, 7.953)\n",
      "(-9.431974068, 7.955)\n"
     ]
    },
    {
     "name": "stderr",
     "output_type": "stream",
     "text": [
      "/var/folders/hs/z5cvxv8n04sb4ctpkmg4t_vh0000gn/T/ipykernel_88517/2708473524.py:1: SAWarning: SELECT statement has a cartesian product between FROM element(s) \"Unemployment\" and FROM element \"GDP_growth\".  Apply join condition(s) between each element to resolve.\n",
      "  for row in session.query(GDP_growth.values_T8, Unemployment.values_T21).limit(10).all():\n"
     ]
    }
   ],
   "source": [
    "for row in session.query(GDP_growth.values_T8, Unemployment.values_T21).limit(10).all():\n",
    "    print(row)"
   ]
  },
  {
   "cell_type": "code",
   "execution_count": 15,
   "metadata": {},
   "outputs": [
    {
     "data": {
      "text/html": [
       "<div>\n",
       "<style scoped>\n",
       "    .dataframe tbody tr th:only-of-type {\n",
       "        vertical-align: middle;\n",
       "    }\n",
       "\n",
       "    .dataframe tbody tr th {\n",
       "        vertical-align: top;\n",
       "    }\n",
       "\n",
       "    .dataframe thead th {\n",
       "        text-align: right;\n",
       "    }\n",
       "</style>\n",
       "<table border=\"1\" class=\"dataframe\">\n",
       "  <thead>\n",
       "    <tr style=\"text-align: right;\">\n",
       "      <th></th>\n",
       "      <th>CountryName</th>\n",
       "      <th>CountryCode</th>\n",
       "      <th>SeriesName</th>\n",
       "      <th>year_T8</th>\n",
       "      <th>values_T8</th>\n",
       "    </tr>\n",
       "  </thead>\n",
       "  <tbody>\n",
       "    <tr>\n",
       "      <th>0</th>\n",
       "      <td>Afghanistan</td>\n",
       "      <td>AFG</td>\n",
       "      <td>GDP growth (annual %)</td>\n",
       "      <td>1/1/2001</td>\n",
       "      <td>-9.431974</td>\n",
       "    </tr>\n",
       "    <tr>\n",
       "      <th>1</th>\n",
       "      <td>Afghanistan</td>\n",
       "      <td>AFG</td>\n",
       "      <td>GDP growth (annual %)</td>\n",
       "      <td>1/1/2002</td>\n",
       "      <td>28.600001</td>\n",
       "    </tr>\n",
       "    <tr>\n",
       "      <th>2</th>\n",
       "      <td>Afghanistan</td>\n",
       "      <td>AFG</td>\n",
       "      <td>GDP growth (annual %)</td>\n",
       "      <td>1/1/2003</td>\n",
       "      <td>8.832278</td>\n",
       "    </tr>\n",
       "    <tr>\n",
       "      <th>3</th>\n",
       "      <td>Afghanistan</td>\n",
       "      <td>AFG</td>\n",
       "      <td>GDP growth (annual %)</td>\n",
       "      <td>1/1/2004</td>\n",
       "      <td>1.414118</td>\n",
       "    </tr>\n",
       "    <tr>\n",
       "      <th>4</th>\n",
       "      <td>Afghanistan</td>\n",
       "      <td>AFG</td>\n",
       "      <td>GDP growth (annual %)</td>\n",
       "      <td>1/1/2005</td>\n",
       "      <td>11.229715</td>\n",
       "    </tr>\n",
       "    <tr>\n",
       "      <th>...</th>\n",
       "      <td>...</td>\n",
       "      <td>...</td>\n",
       "      <td>...</td>\n",
       "      <td>...</td>\n",
       "      <td>...</td>\n",
       "    </tr>\n",
       "    <tr>\n",
       "      <th>13846</th>\n",
       "      <td>Zimbabwe</td>\n",
       "      <td>ZWE</td>\n",
       "      <td>GDP growth (annual %)</td>\n",
       "      <td>1/1/2019</td>\n",
       "      <td>-6.332446</td>\n",
       "    </tr>\n",
       "    <tr>\n",
       "      <th>13847</th>\n",
       "      <td>Zimbabwe</td>\n",
       "      <td>ZWE</td>\n",
       "      <td>GDP growth (annual %)</td>\n",
       "      <td>1/1/2020</td>\n",
       "      <td>-7.816951</td>\n",
       "    </tr>\n",
       "    <tr>\n",
       "      <th>13848</th>\n",
       "      <td>Zimbabwe</td>\n",
       "      <td>ZWE</td>\n",
       "      <td>GDP growth (annual %)</td>\n",
       "      <td>1/1/2021</td>\n",
       "      <td>8.468017</td>\n",
       "    </tr>\n",
       "    <tr>\n",
       "      <th>13849</th>\n",
       "      <td>Zimbabwe</td>\n",
       "      <td>ZWE</td>\n",
       "      <td>GDP growth (annual %)</td>\n",
       "      <td>1/1/2022</td>\n",
       "      <td>6.522375</td>\n",
       "    </tr>\n",
       "    <tr>\n",
       "      <th>13850</th>\n",
       "      <td>Zimbabwe</td>\n",
       "      <td>ZWE</td>\n",
       "      <td>GDP growth (annual %)</td>\n",
       "      <td>1/1/2023</td>\n",
       "      <td>4.955782</td>\n",
       "    </tr>\n",
       "  </tbody>\n",
       "</table>\n",
       "<p>13851 rows × 5 columns</p>\n",
       "</div>"
      ],
      "text/plain": [
       "       CountryName CountryCode             SeriesName   year_T8  values_T8\n",
       "0      Afghanistan         AFG  GDP growth (annual %)  1/1/2001  -9.431974\n",
       "1      Afghanistan         AFG  GDP growth (annual %)  1/1/2002  28.600001\n",
       "2      Afghanistan         AFG  GDP growth (annual %)  1/1/2003   8.832278\n",
       "3      Afghanistan         AFG  GDP growth (annual %)  1/1/2004   1.414118\n",
       "4      Afghanistan         AFG  GDP growth (annual %)  1/1/2005  11.229715\n",
       "...            ...         ...                    ...       ...        ...\n",
       "13846     Zimbabwe         ZWE  GDP growth (annual %)  1/1/2019  -6.332446\n",
       "13847     Zimbabwe         ZWE  GDP growth (annual %)  1/1/2020  -7.816951\n",
       "13848     Zimbabwe         ZWE  GDP growth (annual %)  1/1/2021   8.468017\n",
       "13849     Zimbabwe         ZWE  GDP growth (annual %)  1/1/2022   6.522375\n",
       "13850     Zimbabwe         ZWE  GDP growth (annual %)  1/1/2023   4.955782\n",
       "\n",
       "[13851 rows x 5 columns]"
      ]
     },
     "execution_count": 15,
     "metadata": {},
     "output_type": "execute_result"
    }
   ],
   "source": [
    "data_test = pd.read_sql(\"SELECT * FROM GDP_growth\", conn)\n",
    "data_test"
   ]
  },
  {
   "cell_type": "code",
   "execution_count": null,
   "metadata": {},
   "outputs": [],
   "source": []
  }
 ],
 "metadata": {
  "kernelspec": {
   "display_name": "base",
   "language": "python",
   "name": "python3"
  },
  "language_info": {
   "codemirror_mode": {
    "name": "ipython",
    "version": 3
   },
   "file_extension": ".py",
   "mimetype": "text/x-python",
   "name": "python",
   "nbconvert_exporter": "python",
   "pygments_lexer": "ipython3",
   "version": "3.11.8"
  }
 },
 "nbformat": 4,
 "nbformat_minor": 2
}
