{
 "cells": [
  {
   "cell_type": "code",
   "execution_count": 1,
   "id": "82c2a19f",
   "metadata": {},
   "outputs": [],
   "source": [
    "# Import relevant libraries\n",
    "from splinter import Browser\n",
    "from bs4 import BeautifulSoup\n",
    "import matplotlib.pyplot as plt\n",
    "import pandas as pd\n",
    "import requests"
   ]
  },
  {
   "cell_type": "code",
   "execution_count": 2,
   "id": "ffb58518",
   "metadata": {},
   "outputs": [],
   "source": [
    "browser = Browser('chrome')"
   ]
  },
  {
   "cell_type": "code",
   "execution_count": 3,
   "id": "64352887",
   "metadata": {},
   "outputs": [],
   "source": [
    "url = \"https://olympics.com/en/paris-2024/medals\"\n",
    "\n",
    "browser.visit(url)\n",
    "# response = requests.get(url)\n",
    "# soup = BeautifulSoup(response.content, 'html.parser')"
   ]
  },
  {
   "cell_type": "code",
   "execution_count": 4,
   "id": "1acea1c9",
   "metadata": {},
   "outputs": [],
   "source": [
    "# Create a Beautiful Soup Object\n",
    "html = browser.html\n",
    "soup = BeautifulSoup(html, 'html.parser')"
   ]
  },
  {
   "cell_type": "code",
   "execution_count": 5,
   "id": "8f8c2a42",
   "metadata": {},
   "outputs": [],
   "source": [
    "paris_data = []\n",
    "def add_country_data(country_code, country_name, gold, silver, bronze, total):\n",
    "    country_data = {\n",
    "        \"NOC\": country_code,\n",
    "        \"Country Name\": country_name,\n",
    "        \"Gold Count\": int(gold),\n",
    "        \"Silver Count\": int(silver),\n",
    "        \"Bronze Count\": int(bronze),\n",
    "        \"Medal Count\": int(total)\n",
    "    }\n",
    "    paris_data.append(country_data)"
   ]
  },
  {
   "cell_type": "code",
   "execution_count": 20,
   "id": "662e730a",
   "metadata": {
    "scrolled": true
   },
   "outputs": [
    {
     "ename": "AttributeError",
     "evalue": "'NoneType' object has no attribute 'find'",
     "output_type": "error",
     "traceback": [
      "\u001b[0;31m---------------------------------------------------------------------------\u001b[0m",
      "\u001b[0;31mAttributeError\u001b[0m                            Traceback (most recent call last)",
      "Cell \u001b[0;32mIn[20], line 2\u001b[0m\n\u001b[1;32m      1\u001b[0m \u001b[38;5;66;03m# Extract all rows of data\u001b[39;00m\n\u001b[0;32m----> 2\u001b[0m medal_table \u001b[38;5;241m=\u001b[39m \u001b[43msoup\u001b[49m\u001b[38;5;241;43m.\u001b[39;49m\u001b[43mfind\u001b[49m(\u001b[38;5;124m'\u001b[39m\u001b[38;5;124mdiv\u001b[39m\u001b[38;5;124m'\u001b[39m, class_\u001b[38;5;241m=\u001b[39m\u001b[38;5;124m'\u001b[39m\u001b[38;5;124memotion-srm-hi2jpg\u001b[39m\u001b[38;5;124m'\u001b[39m)\n\u001b[1;32m      3\u001b[0m \u001b[38;5;66;03m# paris_data = {}\u001b[39;00m\n\u001b[1;32m      4\u001b[0m \u001b[38;5;66;03m# rows = soup.find_all('tr')\u001b[39;00m\n\u001b[1;32m      5\u001b[0m \u001b[38;5;28;01mfor\u001b[39;00m row \u001b[38;5;129;01min\u001b[39;00m medal_table\u001b[38;5;241m.\u001b[39mfind_all(\u001b[38;5;124m'\u001b[39m\u001b[38;5;124mdiv\u001b[39m\u001b[38;5;124m'\u001b[39m, class_ \u001b[38;5;241m=\u001b[39m \u001b[38;5;124m'\u001b[39m\u001b[38;5;124memotion-srm-hi2jpg\u001b[39m\u001b[38;5;124m'\u001b[39m):\n",
      "\u001b[0;31mAttributeError\u001b[0m: 'NoneType' object has no attribute 'find'"
     ]
    }
   ],
   "source": [
    "# Extract all rows of data\n",
    "medal_table = soup.find('div', class_='emotion-srm-hi2jpg')\n",
    "# paris_data = {}\n",
    "# rows = soup.find_all('tr')\n",
    "for row in medal_table.find_all('div', class_ = 'emotion-srm-hi2jpg'):\n",
    "    country_code = row.find('div', class_='euzfwma4 emotion-srm-qt2tbz').text\n",
    "    country_name = row.find('div', class_='euzfwma5 emotion-srm-nc9rgq').text\n",
    "    gold_medals = row.find('div', class_='e1oix8v91 emotion-srm-81g9w1').text\n",
    "    silver_medals = row.find('div', class_='e1oix8v91 emotion-srm-81g9w1').text\n",
    "    bronze_medals = row.find('div', class_='e1oix8v91 emotion-srm-81g9w1').text\n",
    "    total_medals = row.find('div', class_='e1oix8v91 emotion-srm-5nhv3o').text\n",
    "    \n",
    "    add_country_data(country_code, country_name, gold_medals, silver_medals, bronze_medals, total_medals)"
   ]
  },
  {
   "cell_type": "code",
   "execution_count": 19,
   "id": "23fce620",
   "metadata": {},
   "outputs": [
    {
     "data": {
      "text/plain": [
       "[]"
      ]
     },
     "execution_count": 19,
     "metadata": {},
     "output_type": "execute_result"
    }
   ],
   "source": [
    "paris_data"
   ]
  },
  {
   "cell_type": "code",
   "execution_count": null,
   "id": "82f0ba6d",
   "metadata": {
    "scrolled": true
   },
   "outputs": [],
   "source": [
    "\n"
   ]
  },
  {
   "cell_type": "code",
   "execution_count": 21,
   "id": "e620972f",
   "metadata": {},
   "outputs": [],
   "source": [
    "driver.quit()\n",
    "browser = None\n",
    "soup = None"
   ]
  },
  {
   "cell_type": "code",
   "execution_count": null,
   "id": "49a1f2d0",
   "metadata": {},
   "outputs": [],
   "source": []
  }
 ],
 "metadata": {
  "kernelspec": {
   "display_name": "Python [conda env:dev]",
   "language": "python",
   "name": "conda-env-dev-py"
  },
  "language_info": {
   "codemirror_mode": {
    "name": "ipython",
    "version": 3
   },
   "file_extension": ".py",
   "mimetype": "text/x-python",
   "name": "python",
   "nbconvert_exporter": "python",
   "pygments_lexer": "ipython3",
   "version": "3.10.13"
  }
 },
 "nbformat": 4,
 "nbformat_minor": 5
}
